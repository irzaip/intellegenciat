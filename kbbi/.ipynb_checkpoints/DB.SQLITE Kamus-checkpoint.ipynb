{
 "metadata": {
  "name": ""
 },
 "nbformat": 3,
 "nbformat_minor": 0,
 "worksheets": [
  {
   "cells": [
    {
     "cell_type": "heading",
     "level": 1,
     "metadata": {},
     "source": [
      "Database kamus - connection"
     ]
    },
    {
     "cell_type": "code",
     "collapsed": false,
     "input": [
      "import sqlite3\n"
     ],
     "language": "python",
     "metadata": {},
     "outputs": [],
     "prompt_number": 2
    },
    {
     "cell_type": "code",
     "collapsed": false,
     "input": [
      "conn = sqlite3.connect('mydata.sqlite')\n",
      "c = conn.cursor()"
     ],
     "language": "python",
     "metadata": {},
     "outputs": [
      {
       "ename": "OperationalError",
       "evalue": "table kamus already exists",
       "output_type": "pyerr",
       "traceback": [
        "\u001b[0;31m---------------------------------------------------------------------------\u001b[0m\n\u001b[0;31mOperationalError\u001b[0m                          Traceback (most recent call last)",
        "\u001b[0;32m<ipython-input-86-ffc1a71fa178>\u001b[0m in \u001b[0;36m<module>\u001b[0;34m()\u001b[0m\n\u001b[1;32m      2\u001b[0m \u001b[0mc\u001b[0m \u001b[0;34m=\u001b[0m \u001b[0mconn\u001b[0m\u001b[0;34m.\u001b[0m\u001b[0mcursor\u001b[0m\u001b[0;34m(\u001b[0m\u001b[0;34m)\u001b[0m\u001b[0;34m\u001b[0m\u001b[0m\n\u001b[1;32m      3\u001b[0m c.execute('''CREATE TABLE kamus\n\u001b[0;32m----> 4\u001b[0;31m              (kata text, jenis text, arti text, bobot real)''')\n\u001b[0m",
        "\u001b[0;31mOperationalError\u001b[0m: table kamus already exists"
       ]
      },
      {
       "output_type": "stream",
       "stream": "stderr",
       "text": [
        "ERROR: An unexpected error occurred while tokenizing input\n",
        "The following traceback may be corrupted or invalid\n",
        "The error message is: ('EOF in multi-line string', (1, 59))\n",
        "\n"
       ]
      }
     ],
     "prompt_number": 86
    },
    {
     "cell_type": "code",
     "collapsed": false,
     "input": [
      "#do not recreate if already exist\n",
      "c.execute('''CREATE TABLE kamus\n",
      "             (kata text, jenis text, arti text, bobot real)''')"
     ],
     "language": "python",
     "metadata": {},
     "outputs": [
      {
       "ename": "OperationalError",
       "evalue": "table kamus already exists",
       "output_type": "pyerr",
       "traceback": [
        "\u001b[0;31m---------------------------------------------------------------------------\u001b[0m\n\u001b[0;31mOperationalError\u001b[0m                          Traceback (most recent call last)",
        "\u001b[0;32m<ipython-input-90-48de74cdd0fa>\u001b[0m in \u001b[0;36m<module>\u001b[0;34m()\u001b[0m\n\u001b[1;32m      1\u001b[0m \u001b[0;31m#do not recreate if already exist\u001b[0m\u001b[0;34m\u001b[0m\u001b[0;34m\u001b[0m\u001b[0m\n\u001b[1;32m      2\u001b[0m c.execute('''CREATE TABLE kamus\n\u001b[0;32m----> 3\u001b[0;31m              (kata text, jenis text, arti text, bobot real)''')\n\u001b[0m",
        "\u001b[0;31mOperationalError\u001b[0m: table kamus already exists"
       ]
      },
      {
       "output_type": "stream",
       "stream": "stderr",
       "text": [
        "ERROR: An unexpected error occurred while tokenizing input\n",
        "The following traceback may be corrupted or invalid\n",
        "The error message is: ('EOF in multi-line string', (1, 59))\n",
        "\n"
       ]
      }
     ],
     "prompt_number": 90
    },
    {
     "cell_type": "code",
     "collapsed": false,
     "input": [
      "def insert_data_kamus(kata,jenis,arti,bobot):\n",
      "    cmd = \"INSERT into kamus VALUES ('%s','%s','%s','%d')\" % (kata,jenis,arti,int(bobot))\n",
      "    print cmd\n",
      "    c.execute(str(cmd))\n",
      "    conn.commit()  "
     ],
     "language": "python",
     "metadata": {},
     "outputs": [],
     "prompt_number": 58
    },
    {
     "cell_type": "code",
     "collapsed": false,
     "input": [
      "insert_data_kamus('zolao','aekata','irrya',3)\n"
     ],
     "language": "python",
     "metadata": {},
     "outputs": [
      {
       "output_type": "stream",
       "stream": "stdout",
       "text": [
        "INSERT into kamus VALUES ('zolao','aekata','irrya','3')\n"
       ]
      }
     ],
     "prompt_number": 87
    },
    {
     "cell_type": "code",
     "collapsed": false,
     "input": [
      "def cari_kamus(kata):\n",
      "    t = (kata,)\n",
      "    c.execute('SELECT * FROM kamus WHERE kata=?', t)\n",
      "    print c.fetchall()\n",
      "\n",
      "def print_tabel():\n",
      "    for row in c.execute('SELECT * FROM kamus'):\n",
      "        print row\n"
     ],
     "language": "python",
     "metadata": {},
     "outputs": [],
     "prompt_number": 82
    },
    {
     "cell_type": "code",
     "collapsed": false,
     "input": [
      "print_tabel()"
     ],
     "language": "python",
     "metadata": {},
     "outputs": [
      {
       "output_type": "stream",
       "stream": "stdout",
       "text": [
        "(u'olo', u'kata', u'iya', 2.0)\n",
        "(u'olo', u'kata', u'iya', 2.0)\n",
        "(u'olo', u'kata', u'iya', 2.0)\n",
        "(u'zolo', u'akata', u'irya', 2.0)\n",
        "(u'zolo', u'akata', u'irya', 2.0)\n",
        "(u'zolo', u'akata', u'irya', 2.0)\n",
        "(u'zolao', u'aekata', u'irrya', 3.0)\n"
       ]
      }
     ],
     "prompt_number": 89
    },
    {
     "cell_type": "code",
     "collapsed": false,
     "input": [
      "conn.close()"
     ],
     "language": "python",
     "metadata": {},
     "outputs": [],
     "prompt_number": 91
    },
    {
     "cell_type": "code",
     "collapsed": false,
     "input": [],
     "language": "python",
     "metadata": {},
     "outputs": []
    }
   ],
   "metadata": {}
  }
 ]
}