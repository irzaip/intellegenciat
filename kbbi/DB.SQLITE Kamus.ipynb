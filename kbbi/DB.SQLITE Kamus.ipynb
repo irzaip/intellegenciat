{
 "metadata": {
  "name": ""
 },
 "nbformat": 3,
 "nbformat_minor": 0,
 "worksheets": [
  {
   "cells": [
    {
     "cell_type": "heading",
     "level": 1,
     "metadata": {},
     "source": [
      "Database kamus - connection"
     ]
    },
    {
     "cell_type": "code",
     "collapsed": false,
     "input": [
      "import sqlite3\n"
     ],
     "language": "python",
     "metadata": {},
     "outputs": [],
     "prompt_number": 1
    },
    {
     "cell_type": "code",
     "collapsed": false,
     "input": [
      "conn = sqlite3.connect('954word.sqlite')\n",
      "c = conn.cursor()"
     ],
     "language": "python",
     "metadata": {},
     "outputs": [],
     "prompt_number": 2
    },
    {
     "cell_type": "code",
     "collapsed": false,
     "input": [
      "#do not recreate if already exist\n",
      "c.execute('''CREATE TABLE kamus\n",
      "             (kata text, alias text, jenis text, arti text, bobot real)''')"
     ],
     "language": "python",
     "metadata": {},
     "outputs": [
      {
       "metadata": {},
       "output_type": "pyout",
       "prompt_number": 3,
       "text": [
        "<sqlite3.Cursor at 0x7f10544a2810>"
       ]
      }
     ],
     "prompt_number": 3
    },
    {
     "cell_type": "code",
     "collapsed": false,
     "input": [
      "def insert_data_kamus(kata,jenis,arti,bobot):\n",
      "    cmd = \"INSERT into kamus VALUES ('%s','%s','%s','%d')\" % (kata,jenis,arti,int(bobot))\n",
      "    print cmd\n",
      "    c.execute(str(cmd))\n",
      "    conn.commit()  "
     ],
     "language": "python",
     "metadata": {},
     "outputs": [],
     "prompt_number": 58
    },
    {
     "cell_type": "code",
     "collapsed": false,
     "input": [
      "insert_data_kamus('zolao','aekata','irrya',3)\n"
     ],
     "language": "python",
     "metadata": {},
     "outputs": [
      {
       "output_type": "stream",
       "stream": "stdout",
       "text": [
        "INSERT into kamus VALUES ('zolao','aekata','irrya','3')\n"
       ]
      }
     ],
     "prompt_number": 87
    },
    {
     "cell_type": "code",
     "collapsed": false,
     "input": [
      "def cari_kamus(kata):\n",
      "    t = (kata,)\n",
      "    c.execute('SELECT * FROM kamus WHERE kata=?', t)\n",
      "    print c.fetchall()\n",
      "\n",
      "def print_tabel():\n",
      "    for row in c.execute('SELECT * FROM kamus'):\n",
      "        print row\n"
     ],
     "language": "python",
     "metadata": {},
     "outputs": [],
     "prompt_number": 82
    },
    {
     "cell_type": "code",
     "collapsed": false,
     "input": [
      "print_tabel()"
     ],
     "language": "python",
     "metadata": {},
     "outputs": [
      {
       "output_type": "stream",
       "stream": "stdout",
       "text": [
        "(u'olo', u'kata', u'iya', 2.0)\n",
        "(u'olo', u'kata', u'iya', 2.0)\n",
        "(u'olo', u'kata', u'iya', 2.0)\n",
        "(u'zolo', u'akata', u'irya', 2.0)\n",
        "(u'zolo', u'akata', u'irya', 2.0)\n",
        "(u'zolo', u'akata', u'irya', 2.0)\n",
        "(u'zolao', u'aekata', u'irrya', 3.0)\n"
       ]
      }
     ],
     "prompt_number": 89
    },
    {
     "cell_type": "code",
     "collapsed": false,
     "input": [
      "conn.close()"
     ],
     "language": "python",
     "metadata": {},
     "outputs": [],
     "prompt_number": 91
    },
    {
     "cell_type": "code",
     "collapsed": false,
     "input": [],
     "language": "python",
     "metadata": {},
     "outputs": []
    }
   ],
   "metadata": {}
  }
 ]
}