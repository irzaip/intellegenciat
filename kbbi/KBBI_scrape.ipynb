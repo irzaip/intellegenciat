{
 "metadata": {
  "name": ""
 },
 "nbformat": 3,
 "nbformat_minor": 0,
 "worksheets": [
  {
   "cells": [
    {
     "cell_type": "heading",
     "level": 1,
     "metadata": {},
     "source": [
      "Koleksi KBBI"
     ]
    },
    {
     "cell_type": "code",
     "collapsed": false,
     "input": [
      "import time\n",
      "import string\n",
      "import re\n",
      "from bs4 import BeautifulSoup\n",
      "from selenium import webdriver"
     ],
     "language": "python",
     "metadata": {},
     "outputs": [],
     "prompt_number": 66
    },
    {
     "cell_type": "code",
     "collapsed": false,
     "input": [
      "browser = webdriver.Chrome()\n",
      "browser.get('http://kbbi.kemdikbud.go.id/Account/Login')"
     ],
     "language": "python",
     "metadata": {},
     "outputs": [],
     "prompt_number": 67
    },
    {
     "cell_type": "code",
     "collapsed": false,
     "input": [
      "#login\n",
      "fLogin = browser.find_element_by_id('Posel')\n",
      "fLogin.clear()\n",
      "fLogin.send_keys('irzaip@gmail.com')\n",
      "\n",
      "fPass = browser.find_element_by_id('KataSandi')\n",
      "fPass.clear()\n",
      "fPass.send_keys('kbbi1001')\n",
      "\n",
      "fMasuk = browser.find_element_by_xpath('//*[@id=\"loginForm\"]/form/div[3]/div[1]/input')\n",
      "fMasuk.click()"
     ],
     "language": "python",
     "metadata": {},
     "outputs": [],
     "prompt_number": 68
    },
    {
     "cell_type": "code",
     "collapsed": false,
     "input": [
      "def find(pat,text):\n",
      "    match = re.findall(pat,text)\n",
      "    if not match: print \"Error\"\n",
      "    return match()        "
     ],
     "language": "python",
     "metadata": {},
     "outputs": [],
     "prompt_number": 69
    },
    {
     "cell_type": "code",
     "collapsed": false,
     "input": [
      "#browse to \n",
      "url = 'http://kbbi.kemdikbud.go.id/Cari/Alphabet?masukan=A&masukanLengkap=A&page=64'\n",
      "urls = []\n",
      "browser.get(url)\n",
      "\n",
      "#parse the content to links and index\n",
      "soup = BeautifulSoup(browser.page_source)"
     ],
     "language": "python",
     "metadata": {},
     "outputs": [],
     "prompt_number": 70
    },
    {
     "cell_type": "code",
     "collapsed": false,
     "input": [
      "#search region of interest put on list\n",
      "col = soup.find_all(\"div\",class_ = \"col-md-3\")\n"
     ],
     "language": "python",
     "metadata": {},
     "outputs": [],
     "prompt_number": 72
    },
    {
     "cell_type": "code",
     "collapsed": false,
     "input": [
      "#main loop ngambil\n",
      "def ambil_url(jml_hal):\n",
      "    get_url_to_go()\n",
      "    \n",
      "    #pg adalah maximum halaman dari url\n",
      "    pg = browser.current_url.split(\"=\")[-1]\n",
      "    while (int(pg) < jml_hal): \n",
      "        nex = browser.find_element_by_xpath('/html/body/div[2]/div[1]/div[3]/a[1]')\n",
      "        pg = browser.current_url.split(\"=\")[-1]\n",
      "        nex.click()"
     ],
     "language": "python",
     "metadata": {},
     "outputs": [],
     "prompt_number": 84
    },
    {
     "cell_type": "code",
     "collapsed": false,
     "input": [
      "# set parsing ambil url kecil\n",
      "def get_url_to_go():\n",
      "    col = soup.find_all(\"div\",class_ = \"col-md-3\")\n",
      "    for element in col:\n",
      "        a = string.strip(element.a.get_text()).encode('ascii','ignore')\n",
      "        href = site + element.a[\"href\"]\n",
      "        urls.append([a,href])\n",
      "        time.sleep(3)\n",
      "    #print urls"
     ],
     "language": "python",
     "metadata": {},
     "outputs": [],
     "prompt_number": 73
    },
    {
     "cell_type": "code",
     "collapsed": false,
     "input": [],
     "language": "python",
     "metadata": {},
     "outputs": [],
     "prompt_number": 83
    },
    {
     "cell_type": "code",
     "collapsed": false,
     "input": [],
     "language": "python",
     "metadata": {},
     "outputs": [],
     "prompt_number": 82
    },
    {
     "cell_type": "code",
     "collapsed": false,
     "input": [],
     "language": "python",
     "metadata": {},
     "outputs": [],
     "prompt_number": "*"
    },
    {
     "cell_type": "code",
     "collapsed": false,
     "input": [],
     "language": "python",
     "metadata": {},
     "outputs": []
    }
   ],
   "metadata": {}
  }
 ]
}