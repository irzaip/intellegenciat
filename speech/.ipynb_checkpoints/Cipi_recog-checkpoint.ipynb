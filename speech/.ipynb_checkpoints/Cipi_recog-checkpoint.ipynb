{
 "metadata": {
  "name": ""
 },
 "nbformat": 3,
 "nbformat_minor": 0,
 "worksheets": [
  {
   "cells": [
    {
     "cell_type": "code",
     "collapsed": false,
     "input": [
      "import snowboydecoder\n",
      "import sys\n",
      "import signal\n",
      "\n",
      "# Demo code for listening two hotwords at the same time\n",
      "\n",
      "interrupted = False\n",
      "\n",
      "\n",
      "def signal_handler(signal, frame):\n",
      "    global interrupted\n",
      "    interrupted = True\n",
      "\n",
      "def interrupt_callback():\n",
      "    global interrupted\n",
      "    return interrupted\n",
      "\n",
      "'''if len(sys.argv) != 4:\n",
      "    print(\"Error: need to specify 2 model names\")\n",
      "    print(\"Usage: python demo.py 1st.model 2nd.model\")\n",
      "    sys.exit(-1)'''\n",
      "\n",
      "models = ['cipi.pdml','ya.pdml','enggak.pdml']\n",
      "\n",
      "# capture SIGINT signal, e.g., Ctrl+C\n",
      "signal.signal(signal.SIGINT, signal_handler)\n",
      "\n",
      "sensitivity = [0.5]*len(models)\n",
      "detector = snowboydecoder.HotwordDetector(models, sensitivity=sensitivity)\n",
      "callbacks = [lambda: snowboydecoder.play_audio_file(snowboydecoder.DETECT_DING),\n",
      "             lambda: snowboydecoder.play_audio_file(snowboydecoder.DETECT_DONG),\n",
      "             lambda: snowboydecoder.play_audio_file(snowboydecoder.DETECT_DING)]\n",
      "print('Listening... Press Ctrl+C to exit')\n",
      "\n",
      "# main loop\n",
      "# make sure you have the same numbers of callbacks and models\n",
      "detector.start(detected_callback=callbacks,\n",
      "               interrupt_check=interrupt_callback,\n",
      "               sleep_time=0.03)\n",
      "\n",
      "detector.terminate()"
     ],
     "language": "python",
     "metadata": {},
     "outputs": []
    }
   ],
   "metadata": {}
  }
 ]
}