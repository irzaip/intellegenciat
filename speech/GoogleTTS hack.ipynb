{
 "cells": [
  {
   "cell_type": "code",
   "execution_count": 3,
   "metadata": {
    "collapsed": false
   },
   "outputs": [],
   "source": [
    "import time\n",
    "from selenium import webdriver\n",
    "\n",
    "browser = webdriver.Chrome()\n",
    "browser.get('https://translate.google.com/?#id/en/apa%20kabar')\n",
    "assert \"Google Translate\" in browser.title"
   ]
  },
  {
   "cell_type": "code",
   "execution_count": 4,
   "metadata": {
    "collapsed": false
   },
   "outputs": [],
   "source": [
    "def talk(speech):\n",
    "    tts = browser.find_element_by_xpath('//*[@id=\"source\"]')\n",
    "    tts.clear()\n",
    "    tts.send_keys(str(speech))\n",
    "    time.sleep(2)\n",
    "    talk = browser.find_element_by_xpath('//*[@id=\"gt-src-listen\"]/span')\n",
    "    talk.click()"
   ]
  },
  {
   "cell_type": "code",
   "execution_count": null,
   "metadata": {
    "collapsed": false
   },
   "outputs": [
    {
     "name": "stdout",
     "output_type": "stream",
     "text": [
      ">i am testing\n",
      ">siapa disana\n",
      ">maju mundur\n",
      ">tolong ambilkan uang\n",
      ">terima kasih\n",
      ">nama saya cipi\n",
      ">maaf, saya sedang tidak tersambung internet\n",
      ">maaf, saya sedang tidak tersambung ke internet\n",
      ">exit()\n"
     ]
    }
   ],
   "source": [
    "while True:\n",
    "    a = raw_input(\">\")\n",
    "    talk(a)"
   ]
  },
  {
   "cell_type": "code",
   "execution_count": 25,
   "metadata": {
    "collapsed": false
   },
   "outputs": [
    {
     "name": "stdout",
     "output_type": "stream",
     "text": [
      "apakah itu\n"
     ]
    }
   ],
   "source": [
    "a = raw_input()"
   ]
  },
  {
   "cell_type": "code",
   "execution_count": null,
   "metadata": {
    "collapsed": false
   },
   "outputs": [],
   "source": []
  }
 ],
 "metadata": {
  "kernelspec": {
   "display_name": "Python 2",
   "language": "python",
   "name": "python2"
  },
  "language_info": {
   "codemirror_mode": {
    "name": "ipython",
    "version": 2
   },
   "file_extension": ".py",
   "mimetype": "text/x-python",
   "name": "python",
   "nbconvert_exporter": "python",
   "pygments_lexer": "ipython2",
   "version": "2.7.13"
  }
 },
 "nbformat": 4,
 "nbformat_minor": 0
}
